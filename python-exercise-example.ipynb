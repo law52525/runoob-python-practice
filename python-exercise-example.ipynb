{
 "cells": [
  {
   "cell_type": "markdown",
   "metadata": {
    "heading_collapsed": true
   },
   "source": [
    "### 1. 有四个数字：1、2、3、4，能组成多少个互不相同且无重复数字的三位数？各是多少？"
   ]
  },
  {
   "cell_type": "code",
   "execution_count": 5,
   "metadata": {
    "hidden": true
   },
   "outputs": [
    {
     "name": "stdout",
     "output_type": "stream",
     "text": [
      "1 2 3\n",
      "1 2 4\n",
      "1 3 2\n",
      "1 3 4\n",
      "1 4 2\n",
      "1 4 3\n",
      "2 1 3\n",
      "2 1 4\n",
      "2 3 1\n",
      "2 3 4\n",
      "2 4 1\n",
      "2 4 3\n",
      "3 1 2\n",
      "3 1 4\n",
      "3 2 1\n",
      "3 2 4\n",
      "3 4 1\n",
      "3 4 2\n",
      "4 1 2\n",
      "4 1 3\n",
      "4 2 1\n",
      "4 2 3\n",
      "4 3 1\n",
      "4 3 2\n"
     ]
    }
   ],
   "source": [
    "from itertools import permutations\n",
    "\n",
    "a = [1, 2, 3, 4]\n",
    "for i in permutations(a, 3):\n",
    "    print(*i)"
   ]
  },
  {
   "cell_type": "markdown",
   "metadata": {
    "heading_collapsed": true
   },
   "source": [
    "### 2. 企业发放的奖金根据利润提成。利润(I)低于或等于10万元时，奖金可提10%；利润高于10万元，低于20万元时，低于10万元的部分按10%提成，高于10万元的部分，可提成7.5%；20万到40万之间时，高于20万元的部分，可提成5%；40万到60万之间时高于40万元的部分，可提成3%；60万到100万之间时，高于60万元的部分，可提成1.5%，高于100万元时，超过100万元的部分按1%提成，从键盘输入当月利润I，求应发放奖金总数？"
   ]
  },
  {
   "cell_type": "code",
   "execution_count": 6,
   "metadata": {
    "hidden": true
   },
   "outputs": [
    {
     "name": "stdout",
     "output_type": "stream",
     "text": [
      "> 120000\n",
      "1500.0\n",
      "10000\n",
      "11500.0\n"
     ]
    }
   ],
   "source": [
    "turn1 = 10000\n",
    "turn2 = 100\n",
    "\n",
    "profit = int(input(\"> \")) / turn1\n",
    "award = 0\n",
    "\n",
    "arr = (100, 60, 40, 20, 10, 0)\n",
    "rat = (1, 1.5, 3, 5, 7.5, 10)\n",
    "\n",
    "for i in range(len(arr)):\n",
    "    if profit > arr[i]:\n",
    "        t = (profit - arr[i]) * rat[i] * turn2\n",
    "        award += t\n",
    "        profit = arr[i]\n",
    "        print(t)\n",
    "\n",
    "print(award)"
   ]
  },
  {
   "cell_type": "markdown",
   "metadata": {
    "heading_collapsed": true
   },
   "source": [
    "### 3. 一个整数，它加上100后是一个完全平方数，再加上168又是一个完全平方数，请问该数是多少？"
   ]
  },
  {
   "cell_type": "code",
   "execution_count": 13,
   "metadata": {
    "code_folding": [],
    "hidden": true
   },
   "outputs": [
    {
     "name": "stdout",
     "output_type": "stream",
     "text": [
      "-99\n",
      "21\n",
      "261\n",
      "1581\n"
     ]
    }
   ],
   "source": [
    "for i in range(2, 85):\n",
    "    if not 168 % i:\n",
    "        j = 168 // i\n",
    "        if j < i and not (j - i) % 2 and not (j + i) % 2:\n",
    "            a = ((j - i) // 2)**2 - 100\n",
    "            b = ((j + i) // 2)**2 - 100 - 168\n",
    "            if a == b:\n",
    "                print(a)"
   ]
  },
  {
   "cell_type": "markdown",
   "metadata": {
    "heading_collapsed": true
   },
   "source": [
    "### 4. 输入某年某月某日，判断这一天是这一年的第几天？"
   ]
  },
  {
   "cell_type": "markdown",
   "metadata": {
    "heading_collapsed": true,
    "hidden": true
   },
   "source": [
    "#### 传统方法："
   ]
  },
  {
   "cell_type": "code",
   "execution_count": 53,
   "metadata": {
    "hidden": true
   },
   "outputs": [
    {
     "name": "stdout",
     "output_type": "stream",
     "text": [
      "输入年月日，空格分隔：2015 6 8\n",
      "159\n"
     ]
    }
   ],
   "source": [
    "from functools import reduce\n",
    "\n",
    "\n",
    "def is_leap_year(y):\n",
    "    return (not y % 400 and y % 3200) or (y % 100 and not y % 4)\n",
    "\n",
    "\n",
    "def main(year, month, day):\n",
    "    if month not in range(1, 13) and year <= 0 and day not in range(1, 32):\n",
    "        exit(1)\n",
    "\n",
    "    m = (0, 31, 28, 31, 30, 31, 30, 31, 31, 30, 31, 30, 31)\n",
    "    r = 1 if is_leap_year(year) and month > 2 else 0\n",
    "    r += reduce(lambda x, y: x + y, m[:month]) + day\n",
    "    return r\n",
    "\n",
    "\n",
    "if __name__ == '__main__':\n",
    "    print(main(*map(int, input(\"输入年月日，空格分隔：\").split(' '))))"
   ]
  },
  {
   "cell_type": "markdown",
   "metadata": {
    "heading_collapsed": true,
    "hidden": true
   },
   "source": [
    "#### 新方法："
   ]
  },
  {
   "cell_type": "code",
   "execution_count": 52,
   "metadata": {
    "hidden": true
   },
   "outputs": [
    {
     "name": "stdout",
     "output_type": "stream",
     "text": [
      "输入年月日，空格分隔：2015 6 7\n",
      "158\n"
     ]
    }
   ],
   "source": [
    "from datetime import datetime\n",
    "\n",
    "\n",
    "def main(year, month, day):\n",
    "    a = datetime(year, 1, 1)\n",
    "    b = datetime(year, month, day)\n",
    "    c = b - a\n",
    "    return c.days + 1\n",
    "\n",
    "\n",
    "if __name__ == '__main__':\n",
    "    print(main(*map(int, input(\"输入年月日，空格分隔：\").split(' '))))"
   ]
  },
  {
   "cell_type": "markdown",
   "metadata": {
    "heading_collapsed": true
   },
   "source": [
    "### 5. 输入三个整数x,y,z，请把这三个数由小到大输出。"
   ]
  },
  {
   "cell_type": "markdown",
   "metadata": {
    "heading_collapsed": true,
    "hidden": true
   },
   "source": [
    "#### 方法一："
   ]
  },
  {
   "cell_type": "code",
   "execution_count": 54,
   "metadata": {
    "hidden": true
   },
   "outputs": [
    {
     "name": "stdout",
     "output_type": "stream",
     "text": [
      "输入三个数字，空格分隔：9 8 7\n",
      "[7, 8, 9]\n"
     ]
    }
   ],
   "source": [
    "def main(m):\n",
    "    m = list(m)\n",
    "    m.sort()\n",
    "    return m\n",
    "\n",
    "\n",
    "if __name__ == '__main__':\n",
    "    print(main(map(int, input(\"输入三个数字，空格分隔：\").split(' '))))"
   ]
  },
  {
   "cell_type": "markdown",
   "metadata": {
    "heading_collapsed": true,
    "hidden": true
   },
   "source": [
    "#### 方法二："
   ]
  },
  {
   "cell_type": "code",
   "execution_count": 56,
   "metadata": {
    "hidden": true
   },
   "outputs": [
    {
     "name": "stdout",
     "output_type": "stream",
     "text": [
      "输入三个数字，空格分隔：98 7 9\n",
      "[7, 9, 98]\n"
     ]
    }
   ],
   "source": [
    "print(sorted(map(int, input(\"输入三个数字，空格分隔：\").split(' '))))"
   ]
  }
 ],
 "metadata": {
  "kernelspec": {
   "display_name": "Python 3",
   "language": "python",
   "name": "python3"
  },
  "language_info": {
   "codemirror_mode": {
    "name": "ipython",
    "version": 3
   },
   "file_extension": ".py",
   "mimetype": "text/x-python",
   "name": "python",
   "nbconvert_exporter": "python",
   "pygments_lexer": "ipython3",
   "version": "3.6.4"
  }
 },
 "nbformat": 4,
 "nbformat_minor": 2
}
